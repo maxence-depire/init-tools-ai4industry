{
 "cells": [
  {
   "cell_type": "markdown",
   "id": "e4163ec3",
   "metadata": {},
   "source": [
    "# Création d'un carnet interactif avec widgets pour visualiser des données."
   ]
  },
  {
   "cell_type": "markdown",
   "id": "87e543fc",
   "metadata": {},
   "source": [
    "## Imports des bibliothèques."
   ]
  },
  {
   "cell_type": "code",
   "execution_count": 4,
   "id": "a7984c67",
   "metadata": {},
   "outputs": [],
   "source": [
    "import pandas as pd\n",
    "import numpy as np\n",
    "import matplotlib.pyplot as plt\n",
    "import seaborn as sns\n",
    "from ipywidgets import interact, FloatSlider"
   ]
  },
  {
   "cell_type": "markdown",
   "id": "dd9ef52a",
   "metadata": {},
   "source": [
    "## Chargements des données."
   ]
  },
  {
   "cell_type": "code",
   "execution_count": 13,
   "id": "eee7a0b8",
   "metadata": {},
   "outputs": [
    {
     "data": {
      "text/html": [
       "<div>\n",
       "<style scoped>\n",
       "    .dataframe tbody tr th:only-of-type {\n",
       "        vertical-align: middle;\n",
       "    }\n",
       "\n",
       "    .dataframe tbody tr th {\n",
       "        vertical-align: top;\n",
       "    }\n",
       "\n",
       "    .dataframe thead th {\n",
       "        text-align: right;\n",
       "    }\n",
       "</style>\n",
       "<table border=\"1\" class=\"dataframe\">\n",
       "  <thead>\n",
       "    <tr style=\"text-align: right;\">\n",
       "      <th></th>\n",
       "      <th>total_bill</th>\n",
       "      <th>tip</th>\n",
       "      <th>sex</th>\n",
       "      <th>smoker</th>\n",
       "      <th>day</th>\n",
       "      <th>time</th>\n",
       "      <th>size</th>\n",
       "    </tr>\n",
       "  </thead>\n",
       "  <tbody>\n",
       "    <tr>\n",
       "      <th>0</th>\n",
       "      <td>16.99</td>\n",
       "      <td>1.01</td>\n",
       "      <td>Female</td>\n",
       "      <td>No</td>\n",
       "      <td>Sun</td>\n",
       "      <td>Dinner</td>\n",
       "      <td>2</td>\n",
       "    </tr>\n",
       "    <tr>\n",
       "      <th>1</th>\n",
       "      <td>10.34</td>\n",
       "      <td>1.66</td>\n",
       "      <td>Male</td>\n",
       "      <td>No</td>\n",
       "      <td>Sun</td>\n",
       "      <td>Dinner</td>\n",
       "      <td>3</td>\n",
       "    </tr>\n",
       "    <tr>\n",
       "      <th>2</th>\n",
       "      <td>21.01</td>\n",
       "      <td>3.50</td>\n",
       "      <td>Male</td>\n",
       "      <td>No</td>\n",
       "      <td>Sun</td>\n",
       "      <td>Dinner</td>\n",
       "      <td>3</td>\n",
       "    </tr>\n",
       "    <tr>\n",
       "      <th>3</th>\n",
       "      <td>23.68</td>\n",
       "      <td>3.31</td>\n",
       "      <td>Male</td>\n",
       "      <td>No</td>\n",
       "      <td>Sun</td>\n",
       "      <td>Dinner</td>\n",
       "      <td>2</td>\n",
       "    </tr>\n",
       "    <tr>\n",
       "      <th>4</th>\n",
       "      <td>24.59</td>\n",
       "      <td>3.61</td>\n",
       "      <td>Female</td>\n",
       "      <td>No</td>\n",
       "      <td>Sun</td>\n",
       "      <td>Dinner</td>\n",
       "      <td>4</td>\n",
       "    </tr>\n",
       "  </tbody>\n",
       "</table>\n",
       "</div>"
      ],
      "text/plain": [
       "   total_bill   tip     sex smoker  day    time  size\n",
       "0       16.99  1.01  Female     No  Sun  Dinner     2\n",
       "1       10.34  1.66    Male     No  Sun  Dinner     3\n",
       "2       21.01  3.50    Male     No  Sun  Dinner     3\n",
       "3       23.68  3.31    Male     No  Sun  Dinner     2\n",
       "4       24.59  3.61  Female     No  Sun  Dinner     4"
      ]
     },
     "execution_count": 13,
     "metadata": {},
     "output_type": "execute_result"
    }
   ],
   "source": [
    "tips = sns.load_dataset(\"tips\")\n",
    "tips.head()"
   ]
  },
  {
   "cell_type": "markdown",
   "id": "2b05e2b7",
   "metadata": {},
   "source": [
    "## Création fonction de visualisation."
   ]
  },
  {
   "cell_type": "code",
   "execution_count": 14,
   "id": "917cecd8",
   "metadata": {},
   "outputs": [],
   "source": [
    "def plot_tips(tip_percentage):\n",
    "    filtered_tips = tips[tips[\"tip\"] >= tip_percentage]\n",
    "    plt.figure(figsize=(10, 6))\n",
    "    sns.scatterplot(\n",
    "        x=\"total_bill\",\n",
    "        y=\"tip\",\n",
    "        data=filtered_tips,\n",
    "        hue=\"day\",\n",
    "        palette=\"deep\"\n",
    "    )\n",
    "    plt.title(\"Pourboires en fonction du total de la facture (pourboire >= {:.2f})\".format(tip_percentage))\n",
    "    plt.xlabel(\"Total de la facture\")\n",
    "    plt.ylabel(\"Pourboire\")\n",
    "    plt.grid()\n",
    "    plt.show()"
   ]
  },
  {
   "cell_type": "markdown",
   "id": "61494bc6",
   "metadata": {},
   "source": [
    "## Ajout d'un widget interactif."
   ]
  },
  {
   "cell_type": "code",
   "execution_count": 15,
   "id": "f6c403f2",
   "metadata": {},
   "outputs": [],
   "source": [
    "tip_slider = FloatSlider(\n",
    "    value=0,\n",
    "    min=0,\n",
    "    max=10,\n",
    "    step=0.5,\n",
    "    description=\"Pourboire minimum :\"\n",
    ")"
   ]
  },
  {
   "cell_type": "markdown",
   "id": "b62341e1",
   "metadata": {},
   "source": [
    "## Lien entre le widget et la fonction."
   ]
  },
  {
   "cell_type": "code",
   "execution_count": 16,
   "id": "88e8f3c4",
   "metadata": {},
   "outputs": [
    {
     "data": {
      "application/vnd.jupyter.widget-view+json": {
       "model_id": "6e2942150ecf4e67b06c601cf8cb4f7a",
       "version_major": 2,
       "version_minor": 0
      },
      "text/plain": [
       "interactive(children=(FloatSlider(value=0.0, description='Pourboire minimum :', max=10.0, step=0.5), Output())…"
      ]
     },
     "metadata": {},
     "output_type": "display_data"
    }
   ],
   "source": [
    "@interact\n",
    "def interactive_plot(tip_percentage=tip_slider):\n",
    "    plot_tips(tip_percentage)"
   ]
  }
 ],
 "metadata": {
  "kernelspec": {
   "display_name": "Python 3 (ipykernel)",
   "language": "python",
   "name": "python3"
  },
  "language_info": {
   "codemirror_mode": {
    "name": "ipython",
    "version": 3
   },
   "file_extension": ".py",
   "mimetype": "text/x-python",
   "name": "python",
   "nbconvert_exporter": "python",
   "pygments_lexer": "ipython3",
   "version": "3.7.17"
  }
 },
 "nbformat": 4,
 "nbformat_minor": 5
}
