{
 "cells": [
  {
   "cell_type": "markdown",
   "id": "41766dc7",
   "metadata": {},
   "source": [
    "# Introduction à `Tensorflow`.\n",
    "\n",
    "## Introduction à la création et l'entraînement de réseaux neuronaux.\n",
    "\n",
    "`Tensorflow` est une bibliothèque open-source développée par Google, qui facilite la création et l'entraînement de modèles de machine learning et de réseaux neuronaux. Elle offre des outils puissants pour construire des modèles complexes d'apprentissage supervisé et non supervisé, en particulier ceux utilisant des réseaux neuronaux profonds.\n",
    "\n",
    "### 1. Qu'est-ce qu'un réseau neuronal ?\n",
    "\n",
    "Un réseau neuronal est un modèle inspiré du fonctionnement du cerveau humain, composé de noeuds (neurones) organisés en couches. Les principales couches d'un réseau neuronal sont :\n",
    "- Couche d'entrée, la couche qui reçoit les données d'entrée.\n",
    "- Couches cachées, les couches intermédiaires qui effectuent des calcules et des transformations sur les données.\n",
    "- Couche de sortie, la couche qui produit les résultats du réseau, correspondant aux classifications, prédictions ou autres sorties désirées.\n",
    "\n",
    "### 2. Création d'un réseau neuronal avec `Tensorflow`.\n",
    "\n",
    "Avec `Tensorflow`, la création d'un réseau neuronal se fait principalement via l'API Keras, qui est intégrée à `Tensorflow`. Voici un exemple de base pour créer un réseau neuronal pour un problème de classification d'images, type `MNIST`.\n",
    "\n",
    "`MNIST` (Modified National Institute of Standards and Technology databse) est un jeu de données classique pour l'apprentissage automatique. Il contient :\n",
    "- 60 000 images d'entraînement : des chiffres manuscrits (28 * 28 picels en niveaux de gris).\n",
    "- 10 000 images de test.\n",
    "Chaque image est accompagnée d'un label indiquant le chiffre qu'elle représente (de 0 à 9)."
   ]
  },
  {
   "cell_type": "code",
   "execution_count": 8,
   "id": "e06ae93b",
   "metadata": {},
   "outputs": [
    {
     "name": "stdout",
     "output_type": "stream",
     "text": [
      "Tensoflow version : 2.11.0\n"
     ]
    }
   ],
   "source": [
    "import tensorflow as tf\n",
    "from tensorflow.keras import layers, models\n",
    "from sklearn.metrics import classification_report, confusion_matrix\n",
    "import numpy as np\n",
    "\n",
    "# verification de la version de tensorflow\n",
    "print(f\"Tensoflow version : {tf.__version__}\")"
   ]
  },
  {
   "cell_type": "markdown",
   "id": "3bb1b2ad",
   "metadata": {},
   "source": [
    "### 3. Chargement du jeux de données."
   ]
  },
  {
   "cell_type": "code",
   "execution_count": 9,
   "id": "1c9f0efd",
   "metadata": {},
   "outputs": [
    {
     "name": "stdout",
     "output_type": "stream",
     "text": [
      "Downloading data from https://storage.googleapis.com/tensorflow/tf-keras-datasets/mnist.npz\n",
      "11490434/11490434 [==============================] - 1s 0us/step\n",
      "dimensions des données d'entraînement : (60000, 28, 28), Labels : (60000,)\n",
      "dimensions des données de test : (10000, 28, 28), labels : (10000,)\n"
     ]
    }
   ],
   "source": [
    "# Chargement du jeu de données MNIST\n",
    "(X_train, y_train), (X_test, y_test) = tf.keras.datasets.mnist.load_data()\n",
    "\n",
    "# Affichage des dimensions des données\n",
    "print(f\"dimensions des données d'entraînement : {X_train.shape}, Labels : {y_train.shape}\")\n",
    "print(f\"dimensions des données de test : {X_test.shape}, labels : {y_test.shape}\")"
   ]
  },
  {
   "cell_type": "markdown",
   "id": "a84357bb",
   "metadata": {},
   "source": [
    "- `X_train` est un tableau contenant les images d'entraînement (60 000, 28, 28), où chaque image est représentée comme une matrice 28x28 de valeurs de pixels.\n",
    "- `y_train` est un tableau contenant les labels associés aux images d'entraînement. Chaque label est un entier entre 0 et 9 indiquant quel chiffre est représenté.\n",
    "- `X_test` est un tableau contenant les images de test (10 000, 28, 28).\n",
    "- `y_test` est un tableau contenant les labels de test associés aux images de test.\n",
    "\n",
    "### 4. Visualisation des données.\n",
    "\n",
    "Avant de commencer l'entraînement, visualisons quelques exemples pour comprendre ce que ocntient le jeu de données."
   ]
  },
  {
   "cell_type": "code",
   "execution_count": 10,
   "id": "179845c2",
   "metadata": {},
   "outputs": [
    {
     "data": {
      "image/png": "[encoded data removed]",
      "text/plain": [
       "<Figure size 1000x500 with 10 Axes>"
      ]
     },
     "metadata": {},
     "output_type": "display_data"
    }
   ],
   "source": [
    "import matplotlib.pyplot as plt\n",
    "\n",
    "# affichage de quelques images d'entraînement\n",
    "plt.figure(figsize=(10, 5))\n",
    "for i in range(10):\n",
    "    plt.subplot(2, 5, i+1)\n",
    "    plt.imshow(X_train[i], cmap=\"gray\")\n",
    "    plt.title(f\"label : {y_train[i]}\")\n",
    "    plt.axis(\"off\")\n",
    "plt.show()"
   ]
  },
  {
   "cell_type": "markdown",
   "id": "0d141469",
   "metadata": {},
   "source": [
    "### 5. Prétraitement des données.\n",
    "\n",
    "Le prétraitement est une étape importante pour rendre les données utilisables par le modèle. Cela inclut la normalisation des pixels et l'encodage des labels."
   ]
  },
  {
   "cell_type": "code",
   "execution_count": 11,
   "id": "1e0d831b",
   "metadata": {},
   "outputs": [],
   "source": [
    "# normalisation des pixels\n",
    "X_train = X_train.astype(\"float32\") / 255.0\n",
    "X_test = X_test.astype(\"float32\") / 255.0\n",
    "\n",
    "# ajout d'une dimension pour les canaux (nécessaire pour les CNN)\n",
    "X_train = X_train[..., np.newaxis]\n",
    "X_test = X_test[..., np.newaxis]\n",
    "\n",
    "# encodage des labels en one-hot\n",
    "y_train_onehot = tf.keras.utils.to_categorical(y_train, 10)\n",
    "y_test_onehot = tf.keras.utils.to_categorical(y_test, 10)"
   ]
  },
  {
   "cell_type": "markdown",
   "id": "d49bfef5",
   "metadata": {},
   "source": [
    "#### Détail sur l'encodage one-hot.\n",
    "L'encodage one-hot transforme les labels (0 à 9) en vecteurs binaires.\n",
    "- Exemple, pour un label `3`, l'encodage devient `[0, 0, 0, 1, 0, 0, 0, 0, 0, 0]`.\n",
    "- Paramètres\n",
    "    - `y_train` les labels d'origine.\n",
    "    - 10 le nombre total de classes (de 0 à 9).\n",
    "    \n",
    "### 6. Construciton du modèle de classification.\n",
    "\n",
    "Nous utilisons un réseau de neurones convolutifs (CNN) pour extraire les caractéristiques des images et effectuer la classification."
   ]
  },
  {
   "cell_type": "code",
   "execution_count": 13,
   "id": "22db6606",
   "metadata": {},
   "outputs": [
    {
     "name": "stdout",
     "output_type": "stream",
     "text": [
      "Model: \"sequential_2\"\n",
      "_________________________________________________________________\n",
      " Layer (type)                Output Shape              Param #   \n",
      "=================================================================\n",
      " conv2d_2 (Conv2D)           (None, 26, 26, 32)        320       \n",
      "                                                                 \n",
      " max_pooling2d_2 (MaxPooling  (None, 13, 13, 32)       0         \n",
      " 2D)                                                             \n",
      "                                                                 \n",
      " conv2d_3 (Conv2D)           (None, 11, 11, 64)        18496     \n",
      "                                                                 \n",
      " max_pooling2d_3 (MaxPooling  (None, 5, 5, 64)         0         \n",
      " 2D)                                                             \n",
      "                                                                 \n",
      " flatten_1 (Flatten)         (None, 1600)              0         \n",
      "                                                                 \n",
      " dense_1 (Dense)             (None, 128)               204928    \n",
      "                                                                 \n",
      " dense_2 (Dense)             (None, 10)                1290      \n",
      "                                                                 \n",
      "=================================================================\n",
      "Total params: 225,034\n",
      "Trainable params: 225,034\n",
      "Non-trainable params: 0\n",
      "_________________________________________________________________\n"
     ]
    }
   ],
   "source": [
    "# Construction du modèle\n",
    "model = models.Sequential([\n",
    "    layers.Conv2D(32, (3, 3), activation=\"relu\", input_shape=(28, 28, 1)),\n",
    "    layers.MaxPooling2D((2, 2)),\n",
    "    layers.Conv2D(64, (3, 3), activation=\"relu\"),\n",
    "    layers.MaxPooling2D((2, 2)),\n",
    "    layers.Flatten(),\n",
    "    layers.Dense(128, activation=\"relu\"),\n",
    "    layers.Dense(10, activation=\"softmax\")\n",
    "])\n",
    "\n",
    "# affichage du résumé du modèle\n",
    "model.summary()"
   ]
  },
  {
   "cell_type": "markdown",
   "id": "c2f116c8",
   "metadata": {},
   "source": [
    "#### Explication des couches du modèle.\n",
    "1. `Conv2D(32, (3, 3), activation=\"relu\", input_shape=(28, 28, 1))`\n",
    "    - Crée une couche convolutive avec 32 filtres de taille 3x3.\n",
    "    - `input_shape=(28, 28, 1)` indique la taille des images d'entrée (28x28) pixels, 1 canal pour les images en niveaux de gris.\n",
    "    - L'activation relu (Rectified Linear Unit) applique une fonction non linéaire pour introduire de la complexité au modèle.\n",
    "2. `MaxPooling2D((2, 2))`\n",
    "    - Effectue un sous-échantillonnage spatial en prenant le maximum dans chaque région `2x2`.\n",
    "    - Réduit la taille de l'image, limitant la complexité et le surapprentissage.\n",
    "3. `Flatten()`\n",
    "    - Aplatie les données en une seule dimension pour les connecter aux couches denses.\n",
    "4. `Dense(128, activation=\"relu\")`\n",
    "    - Ajoute une couche dense avec 128 neurones.\n",
    "    - L'activation relu permet de modéliser des relations non linéaires.\n",
    "5. `Dense(10, activation=\"softmax\")`\n",
    "    - La couche de sortie contient 10 neurones (une par classe).\n",
    "    - L'activation softmax convertit les scores en probabilités.\n",
    "\n",
    "### 7. Compilation du modèle.\n",
    "\n",
    "Le modèle doit être compilé avec une fonction de perte et un optimiseur."
   ]
  },
  {
   "cell_type": "code",
   "execution_count": 15,
   "id": "189f341c",
   "metadata": {},
   "outputs": [],
   "source": [
    "model.compile(\n",
    "    optimizer=\"adam\",\n",
    "    loss=\"categorical_crossentropy\",\n",
    "    metrics=[\"accuracy\"]\n",
    ")"
   ]
  },
  {
   "cell_type": "markdown",
   "id": "26b2c67d",
   "metadata": {},
   "source": [
    "- `optimizer=\"adam\"` Algorithme d'optimisation adaptative.\n",
    "- `loss=\"categorical_crossentropy\"` Fonction de perte utilisée pour les problèmes de classification multiclasse.\n",
    "- `metrics=['accuracy']` Suivi de la précision du modèle pendant l'entraînement.\n",
    "\n",
    "### 8. Entraînement du modèle."
   ]
  },
  {
   "cell_type": "code",
   "execution_count": 17,
   "id": "925ae631",
   "metadata": {},
   "outputs": [
    {
     "name": "stdout",
     "output_type": "stream",
     "text": [
      "Epoch 1/5\n"
     ]
    },
    {
     "name": "stderr",
     "output_type": "stream",
     "text": [
      "2025-01-11 18:56:24.426839: W tensorflow/tsl/framework/cpu_allocator_impl.cc:82] Allocation of 150528000 exceeds 10% of free system memory.\n"
     ]
    },
    {
     "name": "stdout",
     "output_type": "stream",
     "text": [
      "750/750 [==============================] - 17s 21ms/step - loss: 0.1809 - accuracy: 0.9457 - val_loss: 0.0746 - val_accuracy: 0.9768\n",
      "Epoch 2/5\n",
      "750/750 [==============================] - 15s 21ms/step - loss: 0.0566 - accuracy: 0.9828 - val_loss: 0.0527 - val_accuracy: 0.9856\n",
      "Epoch 3/5\n",
      "750/750 [==============================] - 15s 21ms/step - loss: 0.0378 - accuracy: 0.9880 - val_loss: 0.0439 - val_accuracy: 0.9871\n",
      "Epoch 4/5\n",
      "750/750 [==============================] - 15s 21ms/step - loss: 0.0281 - accuracy: 0.9911 - val_loss: 0.0397 - val_accuracy: 0.9890\n",
      "Epoch 5/5\n",
      "750/750 [==============================] - 15s 20ms/step - loss: 0.0203 - accuracy: 0.9939 - val_loss: 0.0481 - val_accuracy: 0.9878\n"
     ]
    }
   ],
   "source": [
    "history = model.fit(X_train, y_train_onehot, epochs=5, batch_size=64, validation_split=0.2)"
   ]
  },
  {
   "cell_type": "markdown",
   "id": "3c6562f2",
   "metadata": {},
   "source": [
    "- `epochs=5`, nombre d'époques (passe complète sur les données d'entraînement).\n",
    "- `batch_size=64`, nombre d'exemples traités à la fois.\n",
    "- `validation_split=0.2`, fraction des données utilisée pour la validation.\n",
    "\n",
    "### 9. Évaluation sur le jeu de test."
   ]
  },
  {
   "cell_type": "code",
   "execution_count": 18,
   "id": "688dfa9b",
   "metadata": {},
   "outputs": [
    {
     "name": "stdout",
     "output_type": "stream",
     "text": [
      "313/313 [==============================] - 2s 6ms/step - loss: 0.0357 - accuracy: 0.9894\n",
      "Précision sur le jeu de test : 98.94%\n"
     ]
    }
   ],
   "source": [
    "test_loss, test_accuracy = model.evaluate(X_test, y_test_onehot)\n",
    "print(f\"Précision sur le jeu de test : {test_accuracy * 100:.2f}%\")"
   ]
  },
  {
   "cell_type": "markdown",
   "id": "45c4e76e",
   "metadata": {},
   "source": [
    "- `test_loss`, la perte calculée sur le jeu de test (mesure d'erreur).\n",
    "- `test_accuracy`, la précision du modèle sur les données de test."
   ]
  },
  {
   "cell_type": "markdown",
   "id": "0a6a54fe",
   "metadata": {},
   "source": [
    "### 10.Analyse des résultats."
   ]
  }
 ],
 "metadata": {
  "kernelspec": {
   "display_name": "Python 3 (ipykernel)",
   "language": "python",
   "name": "python3"
  },
  "language_info": {
   "codemirror_mode": {
    "name": "ipython",
    "version": 3
   },
   "file_extension": ".py",
   "mimetype": "text/x-python",
   "name": "python",
   "nbconvert_exporter": "python",
   "pygments_lexer": "ipython3",
   "version": "3.7.17"
  }
 },
 "nbformat": 4,
 "nbformat_minor": 5
}
