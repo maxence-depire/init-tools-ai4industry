{
 "cells": [
  {
   "cell_type": "markdown",
   "id": "277d770a",
   "metadata": {},
   "source": [
    "# Manipulations des données.\n",
    "\n",
    "`Panda` est une bibliothèque `Python` qui sert à manipuler des données."
   ]
  },
  {
   "cell_type": "markdown",
   "id": "42946499",
   "metadata": {},
   "source": [
    "## Lecture d'un fichier `CSV`."
   ]
  },
  {
   "cell_type": "code",
   "execution_count": 4,
   "id": "d8f29bf8",
   "metadata": {},
   "outputs": [
    {
     "name": "stdout",
     "output_type": "stream",
     "text": [
      "   id     name  age\n",
      "0   1  maxence   21\n",
      "1   2     paco   21\n",
      "2   3   pascal   45\n",
      "3   4     tony   26\n",
      "4   5   michel   80\n"
     ]
    }
   ],
   "source": [
    "import pandas as pd\n",
    "df = pd.read_csv(\"panda_try.csv\")\n",
    "\n",
    "# la commande head permet d'afficher les 5 première lignes du fichier.\n",
    "print(df.head())"
   ]
  }
 ],
 "metadata": {
  "kernelspec": {
   "display_name": "Python 3 (ipykernel)",
   "language": "python",
   "name": "python3"
  },
  "language_info": {
   "codemirror_mode": {
    "name": "ipython",
    "version": 3
   },
   "file_extension": ".py",
   "mimetype": "text/x-python",
   "name": "python",
   "nbconvert_exporter": "python",
   "pygments_lexer": "ipython3",
   "version": "3.7.17"
  }
 },
 "nbformat": 4,
 "nbformat_minor": 5
}
