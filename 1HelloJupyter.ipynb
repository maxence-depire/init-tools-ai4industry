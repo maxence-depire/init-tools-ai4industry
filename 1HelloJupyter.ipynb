{
 "cells": [
  {
   "cell_type": "markdown",
   "id": "4d02fa77",
   "metadata": {},
   "source": [
    "# Helo Jupyter.\n",
    "\n",
    "Jupyter est un environnement conçu pour mélanger code, et explication. On peut écrire en Markdown dans une cellule, et écrire du `Python` dans la suivante.\n",
    "\n",
    "## Comment écrire en Markdown."
   ]
  },
  {
   "cell_type": "markdown",
   "id": "f688afc6",
   "metadata": {},
   "source": [
    "# Titre 1\n",
    "## Titre 2\n",
    "### Titre 3\n",
    "\n",
    "*italique*\n",
    "\n",
    "**gras**\n",
    "\n",
    "`code`"
   ]
  },
  {
   "cell_type": "markdown",
   "id": "169674a2",
   "metadata": {},
   "source": [
    "Ce qui donne du coup :\n",
    "\n",
    "# Titre 1\n",
    "## Titre 2\n",
    "### Titre 3\n",
    "\n",
    "*italique*\n",
    "\n",
    "**gras**\n",
    "\n",
    "`code`"
   ]
  },
  {
   "cell_type": "markdown",
   "id": "abd603aa",
   "metadata": {},
   "source": [
    "## Un simple print."
   ]
  },
  {
   "cell_type": "code",
   "execution_count": 1,
   "id": "2aacb9c5",
   "metadata": {
    "scrolled": true
   },
   "outputs": [
    {
     "name": "stdout",
     "output_type": "stream",
     "text": [
      "Hello World !!!\n"
     ]
    }
   ],
   "source": [
    "print(\"Hello World !!!\")"
   ]
  },
  {
   "cell_type": "markdown",
   "id": "1c8e0bae",
   "metadata": {},
   "source": [
    "## Liste des instances de variables en cours."
   ]
  },
  {
   "cell_type": "code",
   "execution_count": 4,
   "id": "fed30b63",
   "metadata": {},
   "outputs": [],
   "source": [
    "a = 30\n",
    "b = 40\n",
    "c = 55"
   ]
  },
  {
   "cell_type": "code",
   "execution_count": 5,
   "id": "1b75a35a",
   "metadata": {},
   "outputs": [
    {
     "name": "stdout",
     "output_type": "stream",
     "text": [
      "Variable   Type    Data/Info\n",
      "----------------------------\n",
      "a          int     30\n",
      "b          int     40\n",
      "c          int     55\n"
     ]
    }
   ],
   "source": [
    "%whos"
   ]
  },
  {
   "cell_type": "markdown",
   "id": "520e4991",
   "metadata": {},
   "source": [
    "## Exécution de commande système directement dans le notebook."
   ]
  },
  {
   "cell_type": "code",
   "execution_count": 7,
   "id": "d40ccd0b",
   "metadata": {},
   "outputs": [
    {
     "name": "stdout",
     "output_type": "stream",
     "text": [
      "1HelloJupyter.ipynb  venv\n",
      "salut\n",
      "/home/ubuntu/workspace_ia\n"
     ]
    }
   ],
   "source": [
    "!ls\n",
    "!echo salut\n",
    "!pwd"
   ]
  },
  {
   "cell_type": "markdown",
   "id": "ca7e2594",
   "metadata": {},
   "source": [
    "## Racourcie clavier, bien utile pour gagner du temps.\n",
    "\n",
    "### Activé, et désactivé une cellule.\n",
    "Une cellule est activé lorsque elle encadré en vert, ou que votre curseur est actif dans celle-ci. Pour désactiver une cellule il suffit d'appuyer sur `echap`, l'encadré passe la couleur vert à bleu.\n",
    "\n",
    "Pour réactivé une cellule, il suffit de déplacer l'encadré dessus, et d'appuyer sur `entré`.\n",
    "\n",
    "### `dd` (les utilisateurs de `vim` en extase).\n",
    "\n",
    "Sur une cellule, appuyé deux fois sur la touche `d` pour supprimer cette cellule.\n",
    "\n",
    "### `A`bove et `B`efore.\n",
    "Sur une cellule, appuyé sur `A` pour insérer une cellule au-dessus, et `B` une cellule en-dessous.\n",
    "\n",
    "### `shift + enter`.\n",
    "Pour exécuter une cellule de code, désactiver celle-ci, et appuyez sur la touche `shift` et `enter`.\n",
    "\n",
    "### `control + m`.\n",
    "Pour convertir une cellule type code, vers un type `Markdown`. On peut utiliser le raccourcie `control + m`."
   ]
  }
 ],
 "metadata": {
  "kernelspec": {
   "display_name": "Python 3 (ipykernel)",
   "language": "python",
   "name": "python3"
  },
  "language_info": {
   "codemirror_mode": {
    "name": "ipython",
    "version": 3
   },
   "file_extension": ".py",
   "mimetype": "text/x-python",
   "name": "python",
   "nbconvert_exporter": "python",
   "pygments_lexer": "ipython3",
   "version": "3.7.17"
  }
 },
 "nbformat": 4,
 "nbformat_minor": 5
}
