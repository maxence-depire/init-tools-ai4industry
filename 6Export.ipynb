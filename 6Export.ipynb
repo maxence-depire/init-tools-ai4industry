{
 "cells": [
  {
   "cell_type": "markdown",
   "id": "3e665b9f",
   "metadata": {},
   "source": [
    "# Exporter un `notebook`.\n",
    "\n",
    "Il est possible d'exporter un `notebook` dans plusieurs formats :\n",
    "- `.asciidoc`\n",
    "- `.html`\n",
    "- `.latex`\n",
    "- `.md`\n",
    "- `.ipynb`\n",
    "- `.pdf`\n",
    "- ...\n",
    "\n",
    "Pour voir tout les formats disponibles, `File->Download As`."
   ]
  }
 ],
 "metadata": {
  "kernelspec": {
   "display_name": "Python 3 (ipykernel)",
   "language": "python",
   "name": "python3"
  },
  "language_info": {
   "codemirror_mode": {
    "name": "ipython",
    "version": 3
   },
   "file_extension": ".py",
   "mimetype": "text/x-python",
   "name": "python",
   "nbconvert_exporter": "python",
   "pygments_lexer": "ipython3",
   "version": "3.7.17"
  }
 },
 "nbformat": 4,
 "nbformat_minor": 5
}
