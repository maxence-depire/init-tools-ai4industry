{
 "cells": [
  {
   "cell_type": "markdown",
   "id": "acdf565f",
   "metadata": {},
   "source": [
    "# Création d'un `dataframe`."
   ]
  },
  {
   "cell_type": "markdown",
   "id": "0855a988",
   "metadata": {},
   "source": [
    "## Import des bibliothèques."
   ]
  },
  {
   "cell_type": "code",
   "execution_count": 3,
   "id": "c6aa124a",
   "metadata": {},
   "outputs": [],
   "source": [
    "import pandas as pd"
   ]
  },
  {
   "cell_type": "markdown",
   "id": "6ccf35eb",
   "metadata": {},
   "source": [
    "## Création de la structure.\n",
    "Pour l'exemple on créer une structure que l'on convertie ensuite en tant que `DataFrame`."
   ]
  },
  {
   "cell_type": "code",
   "execution_count": 10,
   "id": "65077891",
   "metadata": {},
   "outputs": [
    {
     "name": "stdout",
     "output_type": "stream",
     "text": [
      "       Nom  Âge      Ville\n",
      "0    Alice   25      Paris\n",
      "1      Bob   30       Lyon\n",
      "2  Charlie   35  Marseille\n"
     ]
    }
   ],
   "source": [
    "data = {\n",
    "    'Nom': ['Alice', 'Bob', 'Charlie'],\n",
    "    'Âge': [25, 30, 35],\n",
    "    'Ville': ['Paris', 'Lyon', 'Marseille']\n",
    "}\n",
    "\n",
    "df = pd.DataFrame(data)\n",
    "print(df)"
   ]
  },
  {
   "cell_type": "markdown",
   "id": "82a0eb99",
   "metadata": {},
   "source": [
    "## Chargement des données depuis un fichier."
   ]
  },
  {
   "cell_type": "code",
   "execution_count": 11,
   "id": "09882711",
   "metadata": {},
   "outputs": [],
   "source": [
    "df_c = pd.read_csv(\"csv_test.csv\")\n",
    "# Fonctionne aussi pour les excels.\n",
    "# df_e = pd.read_excel(\"fichier.xlsx\")"
   ]
  },
  {
   "cell_type": "markdown",
   "id": "302779b8",
   "metadata": {},
   "source": [
    "## Explorations des données."
   ]
  },
  {
   "cell_type": "code",
   "execution_count": 12,
   "id": "2ceb36af",
   "metadata": {},
   "outputs": [
    {
     "name": "stdout",
     "output_type": "stream",
     "text": [
      "   temps  température\n",
      "0      0            6\n",
      "1      1           18\n",
      "2      2           12\n",
      "3      3           22\n",
      "4      4           37\n",
      "<class 'pandas.core.frame.DataFrame'>\n",
      "RangeIndex: 99 entries, 0 to 98\n",
      "Data columns (total 2 columns):\n",
      " #   Column       Non-Null Count  Dtype\n",
      "---  ------       --------------  -----\n",
      " 0   temps        99 non-null     int64\n",
      " 1   température  99 non-null     int64\n",
      "dtypes: int64(2)\n",
      "memory usage: 1.7 KB\n",
      "None\n"
     ]
    }
   ],
   "source": [
    "print(df_c.head()) # affiche les 5 premières lignes\n",
    "print(df_c.info()) # affiche des informations sur les colonnes"
   ]
  },
  {
   "cell_type": "code",
   "execution_count": 13,
   "id": "21466e20",
   "metadata": {},
   "outputs": [
    {
     "name": "stdout",
     "output_type": "stream",
     "text": [
      "           temps  température\n",
      "count  99.000000    99.000000\n",
      "mean   49.000000    20.020202\n",
      "std    28.722813    11.453526\n",
      "min     0.000000     1.000000\n",
      "25%    24.500000    11.000000\n",
      "50%    49.000000    19.000000\n",
      "75%    73.500000    30.500000\n",
      "max    98.000000    40.000000\n",
      "(99, 2)\n",
      "Index(['temps', 'température'], dtype='object')\n"
     ]
    }
   ],
   "source": [
    "print(df_c.describe()) # résumé statistique\n",
    "print(df_c.shape) # dimensions (lignes, colonnes)\n",
    "print(df_c.columns) # liste des colonnes"
   ]
  },
  {
   "cell_type": "markdown",
   "id": "c8e90e79",
   "metadata": {},
   "source": [
    "## Séléction des données."
   ]
  },
  {
   "cell_type": "code",
   "execution_count": 15,
   "id": "f0699601",
   "metadata": {},
   "outputs": [
    {
     "name": "stdout",
     "output_type": "stream",
     "text": [
      "0      0\n",
      "1      1\n",
      "2      2\n",
      "3      3\n",
      "4      4\n",
      "      ..\n",
      "94    94\n",
      "95    95\n",
      "96    96\n",
      "97    97\n",
      "98    98\n",
      "Name: temps, Length: 99, dtype: int64\n",
      "    temps  température\n",
      "0       0            6\n",
      "1       1           18\n",
      "2       2           12\n",
      "3       3           22\n",
      "4       4           37\n",
      "..    ...          ...\n",
      "94     94           31\n",
      "95     95            7\n",
      "96     96           23\n",
      "97     97           24\n",
      "98     98           30\n",
      "\n",
      "[99 rows x 2 columns]\n"
     ]
    }
   ],
   "source": [
    "print(df_c['temps']) # Affichage d'une seule colonne\n",
    "print(df_c[['temps', 'température']]) # Affichage de plusieurs colonnes"
   ]
  },
  {
   "cell_type": "code",
   "execution_count": 17,
   "id": "c9c12582",
   "metadata": {},
   "outputs": [
    {
     "name": "stdout",
     "output_type": "stream",
     "text": [
      "temps          0\n",
      "température    6\n",
      "Name: 0, dtype: int64\n",
      "   temps  température\n",
      "0      0            6\n",
      "1      1           18\n"
     ]
    }
   ],
   "source": [
    "print(df_c.iloc[0]) # Affichage première lignes\n",
    "print(df_c.iloc[0:2]) # Affichage deux premières lignes"
   ]
  },
  {
   "cell_type": "markdown",
   "id": "5c638f1a",
   "metadata": {},
   "source": [
    "## Filtrage des données."
   ]
  },
  {
   "cell_type": "code",
   "execution_count": 18,
   "id": "c1698f0f",
   "metadata": {},
   "outputs": [
    {
     "name": "stdout",
     "output_type": "stream",
     "text": [
      "    temps  température\n",
      "3       3           22\n",
      "4       4           37\n",
      "5       5           27\n",
      "8       8           21\n",
      "9       9           27\n",
      "10     10           25\n",
      "11     11           32\n",
      "12     12           26\n",
      "13     13           31\n",
      "16     16           29\n",
      "18     18           36\n",
      "20     20           40\n",
      "22     22           25\n",
      "25     25           23\n",
      "27     27           38\n",
      "28     28           30\n",
      "29     29           39\n",
      "32     32           31\n",
      "33     33           26\n",
      "36     36           25\n",
      "38     38           30\n",
      "41     41           40\n",
      "42     42           22\n",
      "44     44           21\n",
      "45     45           36\n",
      "47     47           33\n",
      "51     51           28\n",
      "52     52           31\n",
      "53     53           34\n",
      "54     54           32\n",
      "56     56           36\n",
      "60     60           34\n",
      "61     61           34\n",
      "62     62           29\n",
      "63     63           22\n",
      "67     67           39\n",
      "68     68           34\n",
      "76     76           30\n",
      "81     81           32\n",
      "88     88           37\n",
      "89     89           31\n",
      "92     92           31\n",
      "93     93           37\n",
      "94     94           31\n",
      "96     96           23\n",
      "97     97           24\n",
      "98     98           30\n"
     ]
    }
   ],
   "source": [
    "print(df_c[df_c['température'] > 20]) # Affichage seulement des lignes ou la température est supérieur à 20"
   ]
  },
  {
   "cell_type": "code",
   "execution_count": 22,
   "id": "6731ccf6",
   "metadata": {},
   "outputs": [
    {
     "name": "stdout",
     "output_type": "stream",
     "text": [
      "    temps  température\n",
      "91     91           20\n",
      "92     92           31\n",
      "93     93           37\n",
      "94     94           31\n",
      "95     95            7\n",
      "96     96           23\n",
      "97     97           24\n",
      "98     98           30\n"
     ]
    }
   ],
   "source": [
    "print(df_c[ df_c['temps'] > 90 ])"
   ]
  },
  {
   "cell_type": "code",
   "execution_count": 24,
   "id": "05091efe",
   "metadata": {},
   "outputs": [
    {
     "name": "stdout",
     "output_type": "stream",
     "text": [
      "    temps  température\n",
      "64     64            7\n",
      "65     65           19\n",
      "66     66            8\n",
      "69     69            9\n",
      "70     70           15\n",
      "71     71           18\n",
      "72     72            1\n",
      "73     73           13\n",
      "74     74            6\n",
      "75     75           15\n",
      "77     77            7\n",
      "78     78            3\n",
      "79     79           12\n",
      "80     80            7\n",
      "82     82            8\n",
      "83     83            1\n",
      "84     84            2\n",
      "85     85           14\n",
      "86     86           11\n",
      "87     87           17\n",
      "90     90           16\n",
      "95     95            7\n"
     ]
    }
   ],
   "source": [
    "print(df_c[ (df_c['temps'] > 60) & (df_c['température'] < 20) ])"
   ]
  },
  {
   "cell_type": "markdown",
   "id": "ddb00ce5",
   "metadata": {},
   "source": [
    "## Modification des données."
   ]
  },
  {
   "cell_type": "code",
   "execution_count": 28,
   "id": "4ee39e87",
   "metadata": {},
   "outputs": [
    {
     "name": "stdout",
     "output_type": "stream",
     "text": [
      "debut\n",
      "    temps  température\n",
      "0      0            6\n",
      "1      1           18\n",
      "2      2           12\n",
      "3      3           22\n",
      "4      4           37\n",
      "milieu\n",
      "    temps  température  vent\n",
      "0      0            6    55\n",
      "1      1           18    34\n",
      "2      2           12    69\n",
      "3      3           22    15\n",
      "4      4           37    31\n",
      "fin\n",
      "    temps  température\n",
      "0      0            6\n",
      "1      1           18\n",
      "2      2           12\n",
      "3      3           22\n",
      "4      4           37\n"
     ]
    }
   ],
   "source": [
    "print(\"debut\\n\", df_c.head())\n",
    "\n",
    "import random\n",
    "vent = []\n",
    "for x in range(1, 100) :\n",
    "    vent.append(random.randint(1,80))\n",
    "df_c['vent'] = vent\n",
    "\n",
    "print(\"milieu\\n\", df_c.head())\n",
    "\n",
    "df_c.drop('vent', axis=1, inplace=True)\n",
    "\n",
    "\n",
    "print(\"fin\\n\", df_c.head())\n"
   ]
  },
  {
   "cell_type": "code",
   "execution_count": null,
   "id": "ba9a60e8",
   "metadata": {},
   "outputs": [],
   "source": []
  }
 ],
 "metadata": {
  "kernelspec": {
   "display_name": "Python 3 (ipykernel)",
   "language": "python",
   "name": "python3"
  },
  "language_info": {
   "codemirror_mode": {
    "name": "ipython",
    "version": 3
   },
   "file_extension": ".py",
   "mimetype": "text/x-python",
   "name": "python",
   "nbconvert_exporter": "python",
   "pygments_lexer": "ipython3",
   "version": "3.7.17"
  }
 },
 "nbformat": 4,
 "nbformat_minor": 5
}
