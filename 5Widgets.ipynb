{
 "cells": [
  {
   "cell_type": "markdown",
   "id": "d4c4a24a",
   "metadata": {},
   "source": [
    "# Créer des widgets interractifs."
   ]
  },
  {
   "cell_type": "markdown",
   "id": "7ea58db8",
   "metadata": {},
   "source": [
    "## Installation de la bibliothèques.\n",
    "\n",
    "On peut executer des commandes système depuis `Jupyter` donc on peut installer des bibliothèques depuis `Jupyter`."
   ]
  },
  {
   "cell_type": "code",
   "execution_count": null,
   "id": "9ce47024",
   "metadata": {},
   "outputs": [],
   "source": [
    "!pip install ipywidgets\n",
    "!jupyter nbextension enable --py widgetsnbextension --sys-prefix"
   ]
  },
  {
   "cell_type": "markdown",
   "id": "ba87a3c0",
   "metadata": {},
   "source": [
    "## Création d'un widget simple."
   ]
  },
  {
   "cell_type": "code",
   "execution_count": 2,
   "id": "7584c948",
   "metadata": {},
   "outputs": [
    {
     "data": {
      "application/vnd.jupyter.widget-view+json": {
       "model_id": "fcaabbaeddc54b96b6dbeb1f748cc1ed",
       "version_major": 2,
       "version_minor": 0
      },
      "text/plain": [
       "interactive(children=(IntSlider(value=10, description='x', max=30, min=-10), Output()), _dom_classes=('widget-…"
      ]
     },
     "metadata": {},
     "output_type": "display_data"
    },
    {
     "data": {
      "text/plain": [
       "<function __main__.afficher(x)>"
      ]
     },
     "execution_count": 2,
     "metadata": {},
     "output_type": "execute_result"
    }
   ],
   "source": [
    "from ipywidgets import interact\n",
    "\n",
    "def afficher(x):\n",
    "    return x\n",
    "interact(afficher, x=10)"
   ]
  }
 ],
 "metadata": {
  "kernelspec": {
   "display_name": "Python 3 (ipykernel)",
   "language": "python",
   "name": "python3"
  },
  "language_info": {
   "codemirror_mode": {
    "name": "ipython",
    "version": 3
   },
   "file_extension": ".py",
   "mimetype": "text/x-python",
   "name": "python",
   "nbconvert_exporter": "python",
   "pygments_lexer": "ipython3",
   "version": "3.7.17"
  }
 },
 "nbformat": 4,
 "nbformat_minor": 5
}
