{
 "cells": [
  {
   "cell_type": "markdown",
   "id": "e1e49588",
   "metadata": {},
   "source": [
    "# Petit programme pour générer un fichier csv."
   ]
  },
  {
   "cell_type": "code",
   "execution_count": null,
   "id": "fbaa4de2",
   "metadata": {},
   "outputs": [],
   "source": [
    "import pandas as pd\n",
    "import random\n",
    "\n",
    "index = 0\n",
    "temps = []\n",
    "temperature = []\n",
    "for x in range(1, 100) :\n",
    "    temps.append(index)\n",
    "    temperature.append(random.randint(1,40))\n",
    "    index += 1\n",
    "    pass\n",
    "\n",
    "data = {\n",
    "    'temps': temps,\n",
    "    'température': temperature\n",
    "}\n",
    "df = pd.DataFrame(data)\n",
    "\n",
    "df.to_csv('csv_test.csv', index=False)\n",
    "\n",
    "print(\"Le fichier CSV 'mon_dataset.csv' a été créé avec succès.\")"
   ]
  },
  {
   "cell_type": "code",
   "execution_count": null,
   "id": "6721fba8",
   "metadata": {},
   "outputs": [],
   "source": []
  }
 ],
 "metadata": {
  "kernelspec": {
   "display_name": "Python 3 (ipykernel)",
   "language": "python",
   "name": "python3"
  },
  "language_info": {
   "codemirror_mode": {
    "name": "ipython",
    "version": 3
   },
   "file_extension": ".py",
   "mimetype": "text/x-python",
   "name": "python",
   "nbconvert_exporter": "python",
   "pygments_lexer": "ipython3",
   "version": "3.7.17"
  }
 },
 "nbformat": 4,
 "nbformat_minor": 5
}
