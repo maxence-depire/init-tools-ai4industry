{
 "cells": [
  {
   "cell_type": "markdown",
   "id": "e1e49588",
   "metadata": {},
   "source": [
    "# Petit programme pour générer un fichier csv."
   ]
  },
  {
   "cell_type": "code",
   "execution_count": 1,
   "id": "fbaa4de2",
   "metadata": {},
   "outputs": [
    {
     "name": "stdout",
     "output_type": "stream",
     "text": [
      "Le fichier CSV 'mon_dataset.csv' a été créé avec succès.\n"
     ]
    }
   ],
   "source": [
    "import pandas as pd\n",
    "import random\n",
    "\n",
    "# Création d'un DataFrame avec des données aléatoires\n",
    "data = {\n",
    "    'temps': [random.randint(1, 100) for _ in range(20)],\n",
    "    'température': [random.randint(1, 50) for _ in range(20)]\n",
    "}\n",
    "df = pd.DataFrame(data)\n",
    "\n",
    "# Enregistrement du DataFrame dans un fichier CSV\n",
    "df.to_csv('csv_test.csv', index=False)\n",
    "\n",
    "print(\"Le fichier CSV 'mon_dataset.csv' a été créé avec succès.\")"
   ]
  }
 ],
 "metadata": {
  "kernelspec": {
   "display_name": "Python 3 (ipykernel)",
   "language": "python",
   "name": "python3"
  },
  "language_info": {
   "codemirror_mode": {
    "name": "ipython",
    "version": 3
   },
   "file_extension": ".py",
   "mimetype": "text/x-python",
   "name": "python",
   "nbconvert_exporter": "python",
   "pygments_lexer": "ipython3",
   "version": "3.7.17"
  }
 },
 "nbformat": 4,
 "nbformat_minor": 5
}
