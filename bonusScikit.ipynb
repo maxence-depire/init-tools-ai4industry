{
 "cells": [
  {
   "cell_type": "markdown",
   "id": "4ba615b3",
   "metadata": {},
   "source": [
    "# `Scikit-learn`, introduction à l'apprentissage supervisé et non supervisé.\n",
    "\n",
    "`Scikit-learn` est une biliothèque `Python` largement utilisée pour le machine learning, offrant un large éventail d'outils pour le traitement, l'analyse et la modélisation des données. Parmi ses nombreuses fonctionnalités, les algorithmes d'apprentissage supervisé et non supervisé sont fondamentaux pour la construction de modèles prédictifs.\n",
    "\n",
    "## 1. Apprentissage supervisé.\n",
    "\n",
    "L'apprentissage supervisé est une méthode où le modèle est formé sur un ensemble de données étiquetées. Cela signifie que pour chaque exemple d'entrée, il existe une sortie correspondantes connue. L'objectif est d'apprendre une fonction capable de prédire les étiquettes de nouvelles données. Les types courants d'algorithmes d'apprentissage supervisé incluent :\n",
    "\n",
    "- Régression : Utilisée lorsque la sortie est continue. Par exemple, prédire le prix d'une maison en fonction de ses caractéristiques.\n",
    "- Classification : Utilisée lorsque la sortie est discrète. Par exemple, classer des emails en tant que spam ou non-spam.\n",
    "\n",
    "Les algorithmes populaires incluent :\n",
    "- Régression linéaire.\n",
    "- Arbres de décision.\n",
    "- Forêts aléatoires.\n",
    "- Support vector machines (SVM).\n",
    "- Réseaux neuronaux.\n",
    "\n",
    "### Exemple 1, classification, prédire le type d'Iris.\n",
    "\n",
    "Objectif, utiliser le dataset `Iris` pour prédire la catégorie d'une fleur en fonction de ses dimensions."
   ]
  },
  {
   "cell_type": "code",
   "execution_count": 4,
   "id": "bf8fc104",
   "metadata": {},
   "outputs": [],
   "source": [
    "from sklearn.datasets import load_iris\n",
    "from sklearn.model_selection import train_test_split\n",
    "from sklearn.ensemble import RandomForestClassifier\n",
    "from sklearn.metrics import accuracy_score, classification_report"
   ]
  },
  {
   "cell_type": "markdown",
   "id": "260148af",
   "metadata": {},
   "source": [
    "Chargement des données `Iris`."
   ]
  },
  {
   "cell_type": "code",
   "execution_count": 6,
   "id": "0881a537",
   "metadata": {},
   "outputs": [],
   "source": [
    "iris = load_iris()"
   ]
  },
  {
   "cell_type": "markdown",
   "id": "8301de76",
   "metadata": {},
   "source": [
    "Afficher les informations du `dataset`."
   ]
  },
  {
   "cell_type": "code",
   "execution_count": 8,
   "id": "67d58409",
   "metadata": {},
   "outputs": [
    {
     "name": "stdout",
     "output_type": "stream",
     "text": [
      "catégories (target) :  ['setosa' 'versicolor' 'virginica']\n",
      "Premières données :  [[5.1 3.5 1.4 0.2]\n",
      " [4.9 3.  1.4 0.2]\n",
      " [4.7 3.2 1.3 0.2]\n",
      " [4.6 3.1 1.5 0.2]\n",
      " [5.  3.6 1.4 0.2]]\n",
      "Premières cible :  [0 0 0 0 0]\n"
     ]
    }
   ],
   "source": [
    "print(\"catégories (target) : \", iris.target_names)\n",
    "print(\"Premières données : \", iris.data[:5])\n",
    "print(\"Premières cible : \", iris.target[:5])"
   ]
  },
  {
   "cell_type": "markdown",
   "id": "65f14085",
   "metadata": {},
   "source": [
    "Diviser les données en ensembles d'entraînement et de test."
   ]
  },
  {
   "cell_type": "code",
   "execution_count": 11,
   "id": "0c5fbeb0",
   "metadata": {},
   "outputs": [],
   "source": [
    "x, y = iris.data, iris.target\n",
    "X_train, X_test, y_train, y_test = train_test_split(x, y, test_size=0.2, random_state=42)"
   ]
  },
  {
   "cell_type": "markdown",
   "id": "c701e194",
   "metadata": {},
   "source": [
    "Vérifier les tailles des ensembles."
   ]
  },
  {
   "cell_type": "code",
   "execution_count": 12,
   "id": "245ff8ed",
   "metadata": {},
   "outputs": [
    {
     "name": "stdout",
     "output_type": "stream",
     "text": [
      "taille de l'ensemble d'entraînement :  (120, 4)\n",
      "taille de l'ensemble de test :  (30, 4)\n"
     ]
    }
   ],
   "source": [
    "print(\"taille de l'ensemble d'entraînement : \", X_train.shape)\n",
    "print(\"taille de l'ensemble de test : \", X_test.shape)"
   ]
  },
  {
   "cell_type": "markdown",
   "id": "a07643e8",
   "metadata": {},
   "source": [
    "Choisir un modèle (`Random Forest Classifier`)."
   ]
  },
  {
   "cell_type": "code",
   "execution_count": 13,
   "id": "9799ea25",
   "metadata": {},
   "outputs": [],
   "source": [
    "model = RandomForestClassifier(n_estimators=100, random_state=42)"
   ]
  },
  {
   "cell_type": "markdown",
   "id": "7bf224c5",
   "metadata": {},
   "source": [
    "Entraîner le modèle."
   ]
  },
  {
   "cell_type": "code",
   "execution_count": 15,
   "id": "b963847b",
   "metadata": {},
   "outputs": [
    {
     "data": {
      "text/plain": [
       "RandomForestClassifier(random_state=42)"
      ]
     },
     "execution_count": 15,
     "metadata": {},
     "output_type": "execute_result"
    }
   ],
   "source": [
    "model.fit(X_train, y_train)"
   ]
  },
  {
   "cell_type": "markdown",
   "id": "4b889a8e",
   "metadata": {},
   "source": [
    "Faire des prédictions."
   ]
  },
  {
   "cell_type": "code",
   "execution_count": 16,
   "id": "5b57de85",
   "metadata": {},
   "outputs": [],
   "source": [
    "y_pred = model.predict(X_test)"
   ]
  },
  {
   "cell_type": "markdown",
   "id": "f8cfeddd",
   "metadata": {},
   "source": [
    "Afficher les prédictions et les vraies valeurs."
   ]
  },
  {
   "cell_type": "code",
   "execution_count": 17,
   "id": "71997fc4",
   "metadata": {},
   "outputs": [
    {
     "name": "stdout",
     "output_type": "stream",
     "text": [
      "predictions :  [1 0 2 1 1 0 1 2 1 1 2 0 0 0 0 1 2 1 1 2 0 2 0 2 2 2 2 2 0 0]\n",
      "vraies valeurs :  [1 0 2 1 1 0 1 2 1 1 2 0 0 0 0 1 2 1 1 2 0 2 0 2 2 2 2 2 0 0]\n"
     ]
    }
   ],
   "source": [
    "print(\"predictions : \", y_pred)\n",
    "print(\"vraies valeurs : \", y_test)"
   ]
  },
  {
   "cell_type": "markdown",
   "id": "19f9f87e",
   "metadata": {},
   "source": [
    "Évaluer le modèle."
   ]
  },
  {
   "cell_type": "code",
   "execution_count": 18,
   "id": "4ef23b42",
   "metadata": {},
   "outputs": [
    {
     "name": "stdout",
     "output_type": "stream",
     "text": [
      "accuracy :  1.0\n",
      "classification report : \n",
      "               precision    recall  f1-score   support\n",
      "\n",
      "           0       1.00      1.00      1.00        10\n",
      "           1       1.00      1.00      1.00         9\n",
      "           2       1.00      1.00      1.00        11\n",
      "\n",
      "    accuracy                           1.00        30\n",
      "   macro avg       1.00      1.00      1.00        30\n",
      "weighted avg       1.00      1.00      1.00        30\n",
      "\n"
     ]
    }
   ],
   "source": [
    "print(\"accuracy : \", accuracy_score(y_test, y_pred))\n",
    "print(\"classification report : \\n\", classification_report(y_test, y_pred))"
   ]
  },
  {
   "cell_type": "markdown",
   "id": "7822f024",
   "metadata": {},
   "source": [
    "## Utilité du modèle entraîné (Classification `Iris`).\n",
    "\n",
    "### 1.Prédire la catéforie d'une nouvelle fleur.\n",
    "\n",
    "Une fois que le modèle est entraîné, il peut répondre à une question centrale :\n",
    "- Question, à quelle espèce appartient une fleur, donnée ses caractéristiques (longueur/largeur des sépales et pétales) ?\n",
    "- Cela permet une classification raide et automatisée des fleurs.\n",
    "\n",
    "**Exemple concret.**\n",
    "- Un botaniste mesure une nouvelle fleur avec les caractéristiques suivantes :\n",
    "    - Longueur de sépale 5.0 cm\n",
    "    - Largeur du sépale 3.5 cm\n",
    "    - Longueur du pétale 0.2 cm\n",
    "    - Largeur du pétale 0.2 cm\n",
    "- Le modèle peut prédire qu'il s'agit d'une `Iris Setosa`."
   ]
  },
  {
   "cell_type": "code",
   "execution_count": 21,
   "id": "3b448338",
   "metadata": {},
   "outputs": [
    {
     "name": "stdout",
     "output_type": "stream",
     "text": [
      "espèce prédite :  setosa\n"
     ]
    }
   ],
   "source": [
    "# nouvelle fleur à classer\n",
    "nouvelle_fleur = [[5.0, 3.5, 1.4, 0.2]]\n",
    "\n",
    "# prédiction avec le modèle\n",
    "prediction = model.predict(nouvelle_fleur)\n",
    "print(\"espèce prédite : \", iris.target_names[prediction[0]])"
   ]
  },
  {
   "cell_type": "markdown",
   "id": "287a29cf",
   "metadata": {},
   "source": [
    "### 2.Classification automatisée dans un processus industriel."
   ]
  }
 ],
 "metadata": {
  "kernelspec": {
   "display_name": "Python 3 (ipykernel)",
   "language": "python",
   "name": "python3"
  },
  "language_info": {
   "codemirror_mode": {
    "name": "ipython",
    "version": 3
   },
   "file_extension": ".py",
   "mimetype": "text/x-python",
   "name": "python",
   "nbconvert_exporter": "python",
   "pygments_lexer": "ipython3",
   "version": "3.7.17"
  }
 },
 "nbformat": 4,
 "nbformat_minor": 5
}
