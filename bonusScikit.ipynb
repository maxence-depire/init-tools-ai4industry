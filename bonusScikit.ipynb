{
 "cells": [
  {
   "cell_type": "markdown",
   "id": "4ba615b3",
   "metadata": {},
   "source": [
    "# `Scikit-learn`, introduction à l'apprentissage supervisé et non supervisé.\n",
    "\n",
    "`Scikit-learn` est une biliothèque `Python` largement utilisée pour le machine learning, offrant un large éventail d'outils pour le traitement, l'analyse et la modélisation des données. Parmi ses nombreuses fonctionnalités, les algorithmes d'apprentissage supervisé et non supervisé sont fondamentaux pour la construction de modèles prédictifs.\n",
    "\n",
    "## 1. Apprentissage supervisé.\n",
    "\n",
    "L'apprentissage supervisé est une méthode où le modèle est formé sur un ensemble de données étiquetées. Cela signifie que pour chaque exemple d'entrée, il existe une sortie correspondantes connue. L'objectif est d'apprendre une fonction capable de prédire les étiquettes de nouvelles données. Les types courants d'algorithmes d'apprentissage supervisé incluent :\n",
    "\n",
    "- Régression : Utilisée lorsque la sortie est continue. Par exemple, prédire le prix d'une maison en fonction de ses caractéristiques.\n",
    "- Classification : Utilisée lorsque la sortie est discrète. Par exemple, classer des emails en tant que spam ou non-spam.\n",
    "\n",
    "Les algorithmes populaires incluent :\n",
    "- Régression linéaire.\n",
    "- Arbres de décision.\n",
    "- Forêts aléatoires.\n",
    "- Support vector machines (SVM).\n",
    "- Réseaux neuronaux.\n",
    "\n",
    "### Exemple 1, classification, prédire le type d'Iris.\n",
    "\n",
    "Objectif, utiliser le dataset `Iris` pour prédire la catégorie d'une fleur en fonction de ses dimensions."
   ]
  },
  {
   "cell_type": "code",
   "execution_count": 4,
   "id": "bf8fc104",
   "metadata": {},
   "outputs": [],
   "source": [
    "from sklearn.datasets import load_iris\n",
    "from sklearn.model_selection import train_test_split\n",
    "from sklearn.ensemble import RandomForestClassifier\n",
    "from sklearn.metrics import accuracy_score, classification_report"
   ]
  },
  {
   "cell_type": "markdown",
   "id": "260148af",
   "metadata": {},
   "source": [
    "Chargement des données `Iris`."
   ]
  },
  {
   "cell_type": "code",
   "execution_count": 6,
   "id": "0881a537",
   "metadata": {},
   "outputs": [],
   "source": [
    "iris = load_iris()"
   ]
  },
  {
   "cell_type": "markdown",
   "id": "8301de76",
   "metadata": {},
   "source": [
    "Afficher les informations du `dataset`."
   ]
  },
  {
   "cell_type": "code",
   "execution_count": 8,
   "id": "67d58409",
   "metadata": {},
   "outputs": [
    {
     "name": "stdout",
     "output_type": "stream",
     "text": [
      "catégories (target) :  ['setosa' 'versicolor' 'virginica']\n",
      "Premières données :  [[5.1 3.5 1.4 0.2]\n",
      " [4.9 3.  1.4 0.2]\n",
      " [4.7 3.2 1.3 0.2]\n",
      " [4.6 3.1 1.5 0.2]\n",
      " [5.  3.6 1.4 0.2]]\n",
      "Premières cible :  [0 0 0 0 0]\n"
     ]
    }
   ],
   "source": [
    "print(\"catégories (target) : \", iris.target_names)\n",
    "print(\"Premières données : \", iris.data[:5])\n",
    "print(\"Premières cible : \", iris.target[:5])"
   ]
  },
  {
   "cell_type": "markdown",
   "id": "65f14085",
   "metadata": {},
   "source": [
    "Diviser les données en ensembles d'entraînement et de test."
   ]
  },
  {
   "cell_type": "code",
   "execution_count": 11,
   "id": "0c5fbeb0",
   "metadata": {},
   "outputs": [],
   "source": [
    "x, y = iris.data, iris.target\n",
    "X_train, X_test, y_train, y_test = train_test_split(x, y, test_size=0.2, random_state=42)"
   ]
  },
  {
   "cell_type": "markdown",
   "id": "c701e194",
   "metadata": {},
   "source": [
    "Vérifier les tailles des ensembles."
   ]
  },
  {
   "cell_type": "code",
   "execution_count": 12,
   "id": "245ff8ed",
   "metadata": {},
   "outputs": [
    {
     "name": "stdout",
     "output_type": "stream",
     "text": [
      "taille de l'ensemble d'entraînement :  (120, 4)\n",
      "taille de l'ensemble de test :  (30, 4)\n"
     ]
    }
   ],
   "source": [
    "print(\"taille de l'ensemble d'entraînement : \", X_train.shape)\n",
    "print(\"taille de l'ensemble de test : \", X_test.shape)"
   ]
  },
  {
   "cell_type": "markdown",
   "id": "a07643e8",
   "metadata": {},
   "source": [
    "Choisir un modèle (`Random Forest Classifier`)."
   ]
  },
  {
   "cell_type": "code",
   "execution_count": 13,
   "id": "9799ea25",
   "metadata": {},
   "outputs": [],
   "source": [
    "model = RandomForestClassifier(n_estimators=100, random_state=42)"
   ]
  },
  {
   "cell_type": "markdown",
   "id": "7bf224c5",
   "metadata": {},
   "source": [
    "Entraîner le modèle."
   ]
  },
  {
   "cell_type": "code",
   "execution_count": 15,
   "id": "b963847b",
   "metadata": {},
   "outputs": [
    {
     "data": {
      "text/plain": [
       "RandomForestClassifier(random_state=42)"
      ]
     },
     "execution_count": 15,
     "metadata": {},
     "output_type": "execute_result"
    }
   ],
   "source": [
    "model.fit(X_train, y_train)"
   ]
  },
  {
   "cell_type": "markdown",
   "id": "4b889a8e",
   "metadata": {},
   "source": [
    "Faire des prédictions."
   ]
  },
  {
   "cell_type": "code",
   "execution_count": 16,
   "id": "5b57de85",
   "metadata": {},
   "outputs": [],
   "source": [
    "y_pred = model.predict(X_test)"
   ]
  },
  {
   "cell_type": "markdown",
   "id": "f8cfeddd",
   "metadata": {},
   "source": [
    "Afficher les prédictions et les vraies valeurs."
   ]
  },
  {
   "cell_type": "code",
   "execution_count": 17,
   "id": "71997fc4",
   "metadata": {},
   "outputs": [
    {
     "name": "stdout",
     "output_type": "stream",
     "text": [
      "predictions :  [1 0 2 1 1 0 1 2 1 1 2 0 0 0 0 1 2 1 1 2 0 2 0 2 2 2 2 2 0 0]\n",
      "vraies valeurs :  [1 0 2 1 1 0 1 2 1 1 2 0 0 0 0 1 2 1 1 2 0 2 0 2 2 2 2 2 0 0]\n"
     ]
    }
   ],
   "source": [
    "print(\"predictions : \", y_pred)\n",
    "print(\"vraies valeurs : \", y_test)"
   ]
  },
  {
   "cell_type": "markdown",
   "id": "19f9f87e",
   "metadata": {},
   "source": [
    "Évaluer le modèle."
   ]
  },
  {
   "cell_type": "code",
   "execution_count": 18,
   "id": "4ef23b42",
   "metadata": {},
   "outputs": [
    {
     "name": "stdout",
     "output_type": "stream",
     "text": [
      "accuracy :  1.0\n",
      "classification report : \n",
      "               precision    recall  f1-score   support\n",
      "\n",
      "           0       1.00      1.00      1.00        10\n",
      "           1       1.00      1.00      1.00         9\n",
      "           2       1.00      1.00      1.00        11\n",
      "\n",
      "    accuracy                           1.00        30\n",
      "   macro avg       1.00      1.00      1.00        30\n",
      "weighted avg       1.00      1.00      1.00        30\n",
      "\n"
     ]
    }
   ],
   "source": [
    "print(\"accuracy : \", accuracy_score(y_test, y_pred))\n",
    "print(\"classification report : \\n\", classification_report(y_test, y_pred))"
   ]
  },
  {
   "cell_type": "markdown",
   "id": "7822f024",
   "metadata": {},
   "source": [
    "### Utilité du modèle entraîné (Classification `Iris`).\n",
    "\n",
    "#### 1.Prédire la catéforie d'une nouvelle fleur.\n",
    "\n",
    "Une fois que le modèle est entraîné, il peut répondre à une question centrale :\n",
    "- Question, à quelle espèce appartient une fleur, donnée ses caractéristiques (longueur/largeur des sépales et pétales) ?\n",
    "- Cela permet une classification raide et automatisée des fleurs.\n",
    "\n",
    "**Exemple concret.**\n",
    "- Un botaniste mesure une nouvelle fleur avec les caractéristiques suivantes :\n",
    "    - Longueur de sépale 5.0 cm\n",
    "    - Largeur du sépale 3.5 cm\n",
    "    - Longueur du pétale 0.2 cm\n",
    "    - Largeur du pétale 0.2 cm\n",
    "- Le modèle peut prédire qu'il s'agit d'une `Iris Setosa`."
   ]
  },
  {
   "cell_type": "code",
   "execution_count": 22,
   "id": "3b448338",
   "metadata": {},
   "outputs": [
    {
     "name": "stdout",
     "output_type": "stream",
     "text": [
      "espèce prédite :  setosa\n"
     ]
    }
   ],
   "source": [
    "# nouvelle fleur à classer\n",
    "nouvelle_fleur = [[5.0, 3.5, 1.4, 0.2]]\n",
    "\n",
    "# prédiction avec le modèle\n",
    "prediction = model.predict(nouvelle_fleur)\n",
    "print(\"espèce prédite : \", iris.target_names[prediction[0]])"
   ]
  },
  {
   "cell_type": "markdown",
   "id": "287a29cf",
   "metadata": {},
   "source": [
    "#### 2.Classification automatisée dans un processus industriel.\n",
    "\n",
    "Le modèle peut être intégré dans un système pour classer automatiquement des données en temps réel :\n",
    "- Exemple concret : Dans une serre automatisée, un système de vision par ordinateur mesure les caractéristiques de chaque fleur récoltée. Le modèle peut :\n",
    "    - Identifier l'espèce de la fleur.\n",
    "    - Trier les fleurs en fonction de leur catégorie.\n",
    "\n",
    "Cela permet de gagner du temps, d'automatiser des tâches répétitives et de réduire les erreurs humaines.\n",
    "\n",
    "### Exemple 2, régression - prédire les prix de maisons.\n",
    "\n",
    "- Objectif, utiliser le `dataset California Housing` pour prédire le prix médian d'une maison.\n",
    "- Contexte :\n",
    "    - Problème, une entreprise immobilière souhaite estimer le prix médian d'une maison dans différents quartiers de Californie, en foncion des caractéristiques des maisons et des quartiers (par exemple, taille, population, proximité des écoles, etc).\n",
    "    - Utilité :\n",
    "        - Estimation rapise, automatiser l'estimation des prix pour les agents immobiliers.\n",
    "        - Optimisation, identifier les facteurs qui influencent le plus le prix (proximité des écoles, densité de population, etc).\n",
    "        - Prise de décision, déterminer dans quels quartiers investir.\n",
    "\n",
    "#### Étape 1, charger les données.\n",
    "\n",
    "Le `dataset California Housing` est intégré dans `scikit-learn`. Il contient :\n",
    "- Caractéristiques (features) :\n",
    "    - Population du quartier.\n",
    "    - Nombre moyen de chambres.\n",
    "    - Distance moyenne aux centres d'emploi, etc.\n",
    "- Cible (target) :\n",
    "    - Le prix médian des maisons dans un quartier (en centaines de miliers de dollars)."
   ]
  },
  {
   "cell_type": "code",
   "execution_count": 24,
   "id": "af3d7e0c",
   "metadata": {},
   "outputs": [
    {
     "name": "stdout",
     "output_type": "stream",
     "text": [
      "caractéristiques :  ['MedInc', 'HouseAge', 'AveRooms', 'AveBedrms', 'Population', 'AveOccup', 'Latitude', 'Longitude']\n",
      "description :  .. _california_housing_dataset:\n",
      "\n",
      "California Housing dataset\n",
      "--------------------------\n",
      "\n",
      "**Data Set Characteristics:**\n",
      "\n",
      "    :Number of Instances: 20640\n",
      "\n",
      "    :Number of Attributes: 8 numeric, predictive attributes and the target\n",
      "\n",
      "    :Attribute Information:\n",
      "        - MedInc        median income in block group\n",
      "        - HouseAge      median house age in block group\n",
      "        - AveRooms      average number of rooms per household\n",
      "        - AveBedrms     average number of bedrooms per household\n",
      "        - Population    block group population\n",
      "        - AveOccup      average number of household members\n",
      "        - Latitude      block group latitude\n",
      "        - Longitude     block group longitude\n",
      "\n",
      "    :Missing Attribute Values: None\n",
      "\n",
      "This dataset was obtained from the StatLib repository.\n",
      "https://www.dcc.fc.up.pt/~ltorgo/Regression/cal_housing.html\n",
      "\n",
      "The target variable is the median house value for California districts,\n",
      "expressed in hundreds of thousands of dollars ($100,000).\n",
      "\n",
      "This dataset was derived from the 1990 U.S. census, using one row per census\n",
      "block group. A block group is the smallest geographical unit for which the U.S.\n",
      "Census Bureau publishes sample data (a block group typically has a population\n",
      "of 600 to 3,000 people).\n",
      "\n",
      "An household is a group of people residing within a home. Since the average\n",
      "number of rooms and bedrooms in this dataset are provided per household, these\n",
      "columns may take surpinsingly large values for block groups with few households\n",
      "and many empty houses, such as vacation resorts.\n",
      "\n",
      "It can be downloaded/loaded using the\n",
      ":func:`sklearn.datasets.fetch_california_housing` function.\n",
      "\n",
      ".. topic:: References\n",
      "\n",
      "    - Pace, R. Kelley and Ronald Barry, Sparse Spatial Autoregressions,\n",
      "      Statistics and Probability Letters, 33 (1997) 291-297\n",
      "\n"
     ]
    }
   ],
   "source": [
    "from sklearn.datasets import fetch_california_housing\n",
    "# Charger les données California Housing\n",
    "data = fetch_california_housing()\n",
    "\n",
    "# Afficher les informations du dataset\n",
    "print(\"caractéristiques : \", data.feature_names)\n",
    "print(\"description : \", data.DESCR)"
   ]
  },
  {
   "cell_type": "markdown",
   "id": "e45669c2",
   "metadata": {},
   "source": [
    "#### Étape 2, préparation des données.\n",
    "\n",
    "1. Diviser les données en ensemble d'entraînement et ensemble de test.\n",
    "2. Normaliser les données (échelle uniforme pour améliorer l'entraînement)."
   ]
  },
  {
   "cell_type": "code",
   "execution_count": 25,
   "id": "5563e436",
   "metadata": {},
   "outputs": [],
   "source": [
    "from sklearn.model_selection import train_test_split\n",
    "from sklearn.preprocessing import StandardScaler"
   ]
  },
  {
   "cell_type": "markdown",
   "id": "1ebf57dc",
   "metadata": {},
   "source": [
    "Diviser les données en X (caractéristiques) et y (prix médian)."
   ]
  },
  {
   "cell_type": "code",
   "execution_count": 26,
   "id": "fc87e268",
   "metadata": {},
   "outputs": [],
   "source": [
    "X, y = data.data, data.target"
   ]
  },
  {
   "cell_type": "markdown",
   "id": "50f2519f",
   "metadata": {},
   "source": [
    "Diviser en ensembles d'entraînement et de test."
   ]
  },
  {
   "cell_type": "code",
   "execution_count": 27,
   "id": "58ce340e",
   "metadata": {},
   "outputs": [],
   "source": [
    "X_train, X_test, y_train, y_test = train_test_split(X, y, test_size=0.2, random_state=42)"
   ]
  },
  {
   "cell_type": "markdown",
   "id": "1219a086",
   "metadata": {},
   "source": [
    "Normaliser les données (StandardScaler)."
   ]
  },
  {
   "cell_type": "code",
   "execution_count": 28,
   "id": "cb6809ed",
   "metadata": {},
   "outputs": [],
   "source": [
    "scaler = StandardScaler()\n",
    "X_train = scaler.fit_transform(X_train)\n",
    "X_test = scaler.transform(X_test)"
   ]
  },
  {
   "cell_type": "markdown",
   "id": "d2390d09",
   "metadata": {},
   "source": [
    "#### Étape 3, entraîner un modèle de régression.\n",
    "\n",
    "Nous utilisons un modèle `Gradient Boosting Regressor`, bien adapté pour les données complexes et non linéaires."
   ]
  },
  {
   "cell_type": "code",
   "execution_count": 30,
   "id": "08ef6e65",
   "metadata": {},
   "outputs": [
    {
     "name": "stdout",
     "output_type": "stream",
     "text": [
      "modèle entraîné avec succès !\n"
     ]
    }
   ],
   "source": [
    "from sklearn.ensemble import GradientBoostingRegressor\n",
    "\n",
    "# Initialiser le modèle\n",
    "model = GradientBoostingRegressor(n_estimators=100, learning_rate=0.1, max_depth=3, random_state=42)\n",
    "\n",
    "# Entraîner le modèle\n",
    "model.fit(X_train, y_train)\n",
    "print(\"modèle entraîné avec succès !\")"
   ]
  },
  {
   "cell_type": "markdown",
   "id": "6ffd2e9a",
   "metadata": {},
   "source": [
    "#### Étape 4, évaluation des performances.\n",
    "\n",
    "1. Évaluer la performance sur l'ensemble de test à l'aide de :\n",
    "    - `MSE` (`Mean Squared Error`) : Mesure l'erreur moyenne entre les valeurs réelles et prédites.\n",
    "    - `R^2` (Coefficient de détermination) : Évalue la qualité de la prédiction globale."
   ]
  },
  {
   "cell_type": "code",
   "execution_count": 31,
   "id": "cd333e0f",
   "metadata": {},
   "outputs": [
    {
     "name": "stdout",
     "output_type": "stream",
     "text": [
      "erreur quadratique moyenne (MSE) :  0.29399901242474274\n",
      "score r^2 :  0.7756433164710084\n"
     ]
    }
   ],
   "source": [
    "from sklearn.metrics import mean_squared_error, r2_score\n",
    "\n",
    "# Prédiction sur l'ensemble de test\n",
    "y_pred = model.predict(X_test)\n",
    "\n",
    "# Calculer les métriques d'évaluation\n",
    "mse = mean_squared_error(y_test, y_pred)\n",
    "r2 = r2_score(y_test, y_pred)\n",
    "\n",
    "print(\"erreur quadratique moyenne (MSE) : \", mse)\n",
    "print(\"score r^2 : \", r2)"
   ]
  },
  {
   "cell_type": "markdown",
   "id": "72492193",
   "metadata": {},
   "source": [
    "#### Étape 4, faire des prédictios pour des nouvelles données.\n",
    "\n",
    "Une fois le modèle entraîné, vous pouvez l'utiliser pour prédire les prix de nouvelles maisons.\n",
    "\n",
    "Exemple, prédire le prix d'une maison fictive, imaginons une maison avec les caractéristiques suivantes :\n",
    "- Nombre moyen de chambres 6.\n",
    "- Population dans le quartier 1000.\n",
    "- Proximité moyenne des écoles 2 km."
   ]
  },
  {
   "cell_type": "code",
   "execution_count": 32,
   "id": "269fc85c",
   "metadata": {},
   "outputs": [
    {
     "name": "stdout",
     "output_type": "stream",
     "text": [
      "Prix estimé pour la nouvelle maison :  1.4597523335955893  centaines de milliers de dollars\n"
     ]
    }
   ],
   "source": [
    "# Nouvelle maison à prédire\n",
    "nouvelle_maison = [[6, 1000, 2, 2, 5, 1000, 30, 3]] # Données fictives\n",
    "nouvelle_maison = scaler.transform(nouvelle_maison) # Normaliser les données\n",
    "\n",
    "# Prédire le prix\n",
    "prix_estime = model.predict(nouvelle_maison)\n",
    "print(\"Prix estimé pour la nouvelle maison : \", prix_estime[0], \" centaines de milliers de dollars\")"
   ]
  },
  {
   "cell_type": "markdown",
   "id": "1cba20b2",
   "metadata": {},
   "source": [
    "#### Étape 6, analyser les caractéristiques importantes.\n",
    "\n",
    "Vous pouvez examiner l'importance des caractéristiques pour voir lesquelles influencent le plus le prix."
   ]
  },
  {
   "cell_type": "code",
   "execution_count": 33,
   "id": "b1d106c6",
   "metadata": {},
   "outputs": [
    {
     "name": "stdout",
     "output_type": "stream",
     "text": [
      "importance des caractéristiques : \n",
      "MedInc : 0.60\n",
      "AveOccup : 0.12\n",
      "Longitude : 0.11\n",
      "Latitude : 0.10\n",
      "HouseAge : 0.03\n",
      "AveRooms : 0.02\n",
      "AveBedrms : 0.01\n",
      "Population : 0.00\n"
     ]
    },
    {
     "data": {
      "image/png": "[encoded data removed]",
      "text/plain": [
       "<Figure size 640x480 with 1 Axes>"
      ]
     },
     "metadata": {},
     "output_type": "display_data"
    }
   ],
   "source": [
    "import matplotlib.pyplot as plt\n",
    "import numpy as np\n",
    "\n",
    "# importance des caractéristiques\n",
    "importances = model.feature_importances_\n",
    "indices = np.argsort(importances)[::-1]\n",
    "\n",
    "# afficher les caractéristiques importantes\n",
    "print(\"importance des caractéristiques : \")\n",
    "for i in range(len(data.feature_names)):\n",
    "    print(f\"{data.feature_names[indices[i]]} : {importances[indices[i]]:.2f}\")\n",
    "    \n",
    "# graphique des importances\n",
    "plt.barh(range(len(data.feature_names)), importances[indices])\n",
    "plt.yticks(range(len(data.feature_names)), [data.feature_names[i] for i in indices])\n",
    "plt.xlabel(\"Importance\")\n",
    "plt.title(\"Importance des caractéristiques\")\n",
    "plt.show()"
   ]
  },
  {
   "cell_type": "markdown",
   "id": "87cfd6d8",
   "metadata": {},
   "source": [
    "#### Exemple concret, utilité dans le secteur immobilier.\n",
    "\n",
    "##### Scénarios d'application.\n",
    "1. Agents immobiliers :\n",
    "    - Obtenir une estimation rapide des prix pour conseiller des clients.\n",
    "    - Identifier les quartiers où investir en fonction des caractéristiques qui influencent les prix (proximité des écoles, densité de populaiton, etc).\n",
    "2. Urbanistes ou mairies :\n",
    "    - Étudier comment des changements dans un quartier (par exemple, construction d'écoles, réduction de la denstié) peuvent affecter les prix immobiliers.\n",
    "3. Banques ou investisseurs :\n",
    "    - Évaluer la valeur des propriétés pour accorder des prêts immobiliers.\n",
    "    - Simulier des scénarios futurs (hausse de la population ou du coût de la vie) pour prédire leur impact sur le marché immobilier.\n",
    "    \n",
    "#### L'intérêt global de cette méthode.\n",
    "- Précision, fournit des prédictions fiables sur des données complexes.\n",
    "- Analyse de scénarios, permet de simuler l'effet de différents changements.\n",
    "- Optimisation des décisions, aide à comprendre les facteurs clés qui influcencent les résultats.\n",
    "\n",
    "## 2. Apprentissage non supervisé.\n",
    "\n",
    "Dans l'apprentissage non supervisé, le modèle est formé sur des données non étiquetées. L'objectif est d'explorer la structure des données et d'identifier des motifs ou des regroupements. Utilisé dans des situations où les étiquettes ne sont pas disponibles, il est particulièrement efficace pour :\n",
    "- Clustering : Regrouper des données similaires. Par exemple, segmenter des clients en fonction de leur comportemet d'achat.\n",
    "- Réduction de dimensions : Simplifier la structure des données tout en préservant les caractéristiques essentielles. Un exemple célébre est l'algorithme PCA (Analyse en composantes principales).\n",
    "\n",
    "Les algorithmes populairesd'apprentissage non supervisé incluent :\n",
    "- K-means\n",
    "- DBSCAN\n",
    "- Algorithmes de regroupement hiéracrhique.\n",
    "- PCA.\n",
    "\n",
    "### Exemple, clustering avec K-Means pour regrouper des clients selon leur comportement d'achat.\n",
    "\n",
    "L'apprentissage non supervisé est utlie lorsque vous ne disposez pas de labels (catégories ou cibles dans vos données. Il permet de découvrir des structures cachées ou des groupes dans les données."
   ]
  },
  {
   "cell_type": "code",
   "execution_count": null,
   "id": "44787bce",
   "metadata": {},
   "outputs": [],
   "source": []
  }
 ],
 "metadata": {
  "kernelspec": {
   "display_name": "Python 3 (ipykernel)",
   "language": "python",
   "name": "python3"
  },
  "language_info": {
   "codemirror_mode": {
    "name": "ipython",
    "version": 3
   },
   "file_extension": ".py",
   "mimetype": "text/x-python",
   "name": "python",
   "nbconvert_exporter": "python",
   "pygments_lexer": "ipython3",
   "version": "3.7.17"
  }
 },
 "nbformat": 4,
 "nbformat_minor": 5
}
